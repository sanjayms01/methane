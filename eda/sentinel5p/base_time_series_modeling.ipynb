{
 "cells": [
  {
   "cell_type": "code",
   "execution_count": 1,
   "metadata": {},
   "outputs": [],
   "source": [
    "import pandas as pd\n",
    "import numpy as np\n",
    "import matplotlib.pyplot as plt\n",
    "from datetime import datetime\n",
    "from datetime import timedelta\n",
    "from pandas.plotting import register_matplotlib_converters\n",
    "from statsmodels.tsa.stattools import acf, pacf\n",
    "from statsmodels.tsa.statespace.sarimax import SARIMAX\n",
    "register_matplotlib_converters()\n",
    "from time import time\n"
   ]
  },
  {
   "cell_type": "markdown",
   "metadata": {},
   "source": [
    "#### Github Origin Repo\n",
    "https://github.com/ritvikmath/Time-Series-Analysis"
   ]
  },
  {
   "cell_type": "markdown",
   "metadata": {},
   "source": [
    "### Load data"
   ]
  },
  {
   "cell_type": "code",
   "execution_count": 2,
   "metadata": {},
   "outputs": [
    {
     "name": "stdout",
     "output_type": "stream",
     "text": [
      "ORIGINAL DATA SHAPE (98727, 11)\n"
     ]
    },
    {
     "data": {
      "text/html": [
       "<div>\n",
       "<style scoped>\n",
       "    .dataframe tbody tr th:only-of-type {\n",
       "        vertical-align: middle;\n",
       "    }\n",
       "\n",
       "    .dataframe tbody tr th {\n",
       "        vertical-align: top;\n",
       "    }\n",
       "\n",
       "    .dataframe thead th {\n",
       "        text-align: right;\n",
       "    }\n",
       "</style>\n",
       "<table border=\"1\" class=\"dataframe\">\n",
       "  <thead>\n",
       "    <tr style=\"text-align: right;\">\n",
       "      <th></th>\n",
       "      <th>time_utc</th>\n",
       "      <th>lat</th>\n",
       "      <th>lon</th>\n",
       "      <th>rounded_lat_1</th>\n",
       "      <th>rounded_lon_1</th>\n",
       "      <th>rounded_lat</th>\n",
       "      <th>rounded_lon</th>\n",
       "      <th>qa_val</th>\n",
       "      <th>methane_mixing_ratio</th>\n",
       "      <th>methane_mixing_ratio_precision</th>\n",
       "      <th>methane_mixing_ratio_bias_corrected</th>\n",
       "    </tr>\n",
       "  </thead>\n",
       "  <tbody>\n",
       "    <tr>\n",
       "      <th>0</th>\n",
       "      <td>2021-08-01 19:57:42.668</td>\n",
       "      <td>32.866806</td>\n",
       "      <td>-114.359250</td>\n",
       "      <td>32.9</td>\n",
       "      <td>-114.4</td>\n",
       "      <td>33.0</td>\n",
       "      <td>-114.0</td>\n",
       "      <td>0.4</td>\n",
       "      <td>1858.0217</td>\n",
       "      <td>1.434432</td>\n",
       "      <td>1860.8737</td>\n",
       "    </tr>\n",
       "    <tr>\n",
       "      <th>1</th>\n",
       "      <td>2021-08-01 19:57:43.508</td>\n",
       "      <td>32.799152</td>\n",
       "      <td>-114.617550</td>\n",
       "      <td>32.8</td>\n",
       "      <td>-114.6</td>\n",
       "      <td>33.0</td>\n",
       "      <td>-115.0</td>\n",
       "      <td>0.4</td>\n",
       "      <td>1869.6572</td>\n",
       "      <td>1.434827</td>\n",
       "      <td>1873.1146</td>\n",
       "    </tr>\n",
       "    <tr>\n",
       "      <th>2</th>\n",
       "      <td>2021-08-01 19:57:43.508</td>\n",
       "      <td>32.914066</td>\n",
       "      <td>-114.380090</td>\n",
       "      <td>32.9</td>\n",
       "      <td>-114.4</td>\n",
       "      <td>33.0</td>\n",
       "      <td>-114.0</td>\n",
       "      <td>0.4</td>\n",
       "      <td>1850.1168</td>\n",
       "      <td>1.449401</td>\n",
       "      <td>1853.2874</td>\n",
       "    </tr>\n",
       "    <tr>\n",
       "      <th>3</th>\n",
       "      <td>2021-08-01 19:57:44.348</td>\n",
       "      <td>32.846360</td>\n",
       "      <td>-114.638510</td>\n",
       "      <td>32.8</td>\n",
       "      <td>-114.6</td>\n",
       "      <td>33.0</td>\n",
       "      <td>-115.0</td>\n",
       "      <td>0.4</td>\n",
       "      <td>1876.0233</td>\n",
       "      <td>1.410911</td>\n",
       "      <td>1878.4884</td>\n",
       "    </tr>\n",
       "    <tr>\n",
       "      <th>4</th>\n",
       "      <td>2021-08-01 19:57:47.708</td>\n",
       "      <td>33.035030</td>\n",
       "      <td>-114.722824</td>\n",
       "      <td>33.0</td>\n",
       "      <td>-114.7</td>\n",
       "      <td>33.0</td>\n",
       "      <td>-115.0</td>\n",
       "      <td>0.4</td>\n",
       "      <td>1852.6785</td>\n",
       "      <td>1.527326</td>\n",
       "      <td>1857.2365</td>\n",
       "    </tr>\n",
       "  </tbody>\n",
       "</table>\n",
       "</div>"
      ],
      "text/plain": [
       "                 time_utc        lat         lon  rounded_lat_1  \\\n",
       "0 2021-08-01 19:57:42.668  32.866806 -114.359250           32.9   \n",
       "1 2021-08-01 19:57:43.508  32.799152 -114.617550           32.8   \n",
       "2 2021-08-01 19:57:43.508  32.914066 -114.380090           32.9   \n",
       "3 2021-08-01 19:57:44.348  32.846360 -114.638510           32.8   \n",
       "4 2021-08-01 19:57:47.708  33.035030 -114.722824           33.0   \n",
       "\n",
       "   rounded_lon_1  rounded_lat  rounded_lon  qa_val  methane_mixing_ratio  \\\n",
       "0         -114.4         33.0       -114.0     0.4             1858.0217   \n",
       "1         -114.6         33.0       -115.0     0.4             1869.6572   \n",
       "2         -114.4         33.0       -114.0     0.4             1850.1168   \n",
       "3         -114.6         33.0       -115.0     0.4             1876.0233   \n",
       "4         -114.7         33.0       -115.0     0.4             1852.6785   \n",
       "\n",
       "   methane_mixing_ratio_precision  methane_mixing_ratio_bias_corrected  \n",
       "0                        1.434432                            1860.8737  \n",
       "1                        1.434827                            1873.1146  \n",
       "2                        1.449401                            1853.2874  \n",
       "3                        1.410911                            1878.4884  \n",
       "4                        1.527326                            1857.2365  "
      ]
     },
     "execution_count": 2,
     "metadata": {},
     "output_type": "execute_result"
    }
   ],
   "source": [
    "\n",
    "df_aug_ca = pd.read_csv('data/aug_21/aug_21_filtered.csv')\n",
    "df_aug_ca = df_aug_ca.drop(df_aug_ca.columns[0], axis=1)\n",
    "\n",
    "df_aug_ca['time_utc'] = pd.to_datetime(df_aug_ca['time_utc'], infer_datetime_format= True)\n",
    "\n",
    "df_aug_ca.insert(3, 'rounded_lat', df_aug_ca['lat'].round())\n",
    "df_aug_ca.insert(4, 'rounded_lon', df_aug_ca['lon'].round())\n",
    "\n",
    "df_aug_ca.insert(3, 'rounded_lat_1', df_aug_ca['lat'].round(1))\n",
    "df_aug_ca.insert(4, 'rounded_lon_1', df_aug_ca['lon'].round(1))\n",
    "\n",
    "print(\"ORIGINAL DATA SHAPE\", df_aug_ca.shape)\n",
    "df_aug_ca.head()\n"
   ]
  },
  {
   "cell_type": "code",
   "execution_count": 3,
   "metadata": {},
   "outputs": [
    {
     "data": {
      "text/plain": [
       "time_utc                                6878\n",
       "lat                                    95965\n",
       "lon                                    92598\n",
       "rounded_lat_1                             93\n",
       "rounded_lon_1                            108\n",
       "rounded_lat                               10\n",
       "rounded_lon                               11\n",
       "qa_val                                     2\n",
       "methane_mixing_ratio                   90867\n",
       "methane_mixing_ratio_precision         97827\n",
       "methane_mixing_ratio_bias_corrected    90631\n",
       "dtype: int64"
      ]
     },
     "execution_count": 3,
     "metadata": {},
     "output_type": "execute_result"
    }
   ],
   "source": [
    "df_aug_ca.nunique()"
   ]
  },
  {
   "cell_type": "markdown",
   "metadata": {},
   "source": [
    "### Geo Group"
   ]
  },
  {
   "cell_type": "code",
   "execution_count": 4,
   "metadata": {},
   "outputs": [
    {
     "name": "stdout",
     "output_type": "stream",
     "text": [
      "gdf_geo (61698, 4)\n"
     ]
    },
    {
     "data": {
      "text/html": [
       "<div>\n",
       "<style scoped>\n",
       "    .dataframe tbody tr th:only-of-type {\n",
       "        vertical-align: middle;\n",
       "    }\n",
       "\n",
       "    .dataframe tbody tr th {\n",
       "        vertical-align: top;\n",
       "    }\n",
       "\n",
       "    .dataframe thead th {\n",
       "        text-align: right;\n",
       "    }\n",
       "</style>\n",
       "<table border=\"1\" class=\"dataframe\">\n",
       "  <thead>\n",
       "    <tr style=\"text-align: right;\">\n",
       "      <th></th>\n",
       "      <th>time_utc</th>\n",
       "      <th>rounded_lat_1</th>\n",
       "      <th>rounded_lon_1</th>\n",
       "      <th>methane_mixing_ratio_bias_corrected</th>\n",
       "    </tr>\n",
       "  </thead>\n",
       "  <tbody>\n",
       "    <tr>\n",
       "      <th>0</th>\n",
       "      <td>2021-08-01</td>\n",
       "      <td>32.8</td>\n",
       "      <td>-117.0</td>\n",
       "      <td>1866.96295</td>\n",
       "    </tr>\n",
       "    <tr>\n",
       "      <th>1</th>\n",
       "      <td>2021-08-01</td>\n",
       "      <td>32.8</td>\n",
       "      <td>-114.6</td>\n",
       "      <td>1875.80150</td>\n",
       "    </tr>\n",
       "    <tr>\n",
       "      <th>2</th>\n",
       "      <td>2021-08-01</td>\n",
       "      <td>32.9</td>\n",
       "      <td>-117.0</td>\n",
       "      <td>1866.79845</td>\n",
       "    </tr>\n",
       "    <tr>\n",
       "      <th>3</th>\n",
       "      <td>2021-08-01</td>\n",
       "      <td>32.9</td>\n",
       "      <td>-116.0</td>\n",
       "      <td>1881.01930</td>\n",
       "    </tr>\n",
       "    <tr>\n",
       "      <th>4</th>\n",
       "      <td>2021-08-01</td>\n",
       "      <td>32.9</td>\n",
       "      <td>-115.8</td>\n",
       "      <td>1880.81560</td>\n",
       "    </tr>\n",
       "  </tbody>\n",
       "</table>\n",
       "</div>"
      ],
      "text/plain": [
       "     time_utc  rounded_lat_1  rounded_lon_1  \\\n",
       "0  2021-08-01           32.8         -117.0   \n",
       "1  2021-08-01           32.8         -114.6   \n",
       "2  2021-08-01           32.9         -117.0   \n",
       "3  2021-08-01           32.9         -116.0   \n",
       "4  2021-08-01           32.9         -115.8   \n",
       "\n",
       "   methane_mixing_ratio_bias_corrected  \n",
       "0                           1866.96295  \n",
       "1                           1875.80150  \n",
       "2                           1866.79845  \n",
       "3                           1881.01930  \n",
       "4                           1880.81560  "
      ]
     },
     "execution_count": 4,
     "metadata": {},
     "output_type": "execute_result"
    }
   ],
   "source": [
    "gdf_geo = df_aug_ca.groupby([df_aug_ca.time_utc.dt.date, 'rounded_lat_1', 'rounded_lon_1']) \\\n",
    "                 .agg({'methane_mixing_ratio_bias_corrected':'mean'}) \\\n",
    "                 .reset_index()\n",
    "\n",
    "print('gdf_geo', gdf_geo.shape)\n",
    "gdf_geo.head()\n"
   ]
  },
  {
   "cell_type": "markdown",
   "metadata": {},
   "source": [
    "### Time Group"
   ]
  },
  {
   "cell_type": "code",
   "execution_count": 5,
   "metadata": {},
   "outputs": [
    {
     "name": "stdout",
     "output_type": "stream",
     "text": [
      "gdf_time (30, 1)\n"
     ]
    },
    {
     "data": {
      "text/html": [
       "<div>\n",
       "<style scoped>\n",
       "    .dataframe tbody tr th:only-of-type {\n",
       "        vertical-align: middle;\n",
       "    }\n",
       "\n",
       "    .dataframe tbody tr th {\n",
       "        vertical-align: top;\n",
       "    }\n",
       "\n",
       "    .dataframe thead th {\n",
       "        text-align: right;\n",
       "    }\n",
       "</style>\n",
       "<table border=\"1\" class=\"dataframe\">\n",
       "  <thead>\n",
       "    <tr style=\"text-align: right;\">\n",
       "      <th></th>\n",
       "      <th>methane_mixing_ratio_bias_corrected</th>\n",
       "    </tr>\n",
       "    <tr>\n",
       "      <th>time_utc</th>\n",
       "      <th></th>\n",
       "    </tr>\n",
       "  </thead>\n",
       "  <tbody>\n",
       "    <tr>\n",
       "      <th>2021-08-01</th>\n",
       "      <td>1865.911443</td>\n",
       "    </tr>\n",
       "    <tr>\n",
       "      <th>2021-08-02</th>\n",
       "      <td>1861.778626</td>\n",
       "    </tr>\n",
       "    <tr>\n",
       "      <th>2021-08-04</th>\n",
       "      <td>1843.632174</td>\n",
       "    </tr>\n",
       "    <tr>\n",
       "      <th>2021-08-05</th>\n",
       "      <td>1850.621098</td>\n",
       "    </tr>\n",
       "    <tr>\n",
       "      <th>2021-08-06</th>\n",
       "      <td>1887.348444</td>\n",
       "    </tr>\n",
       "  </tbody>\n",
       "</table>\n",
       "</div>"
      ],
      "text/plain": [
       "            methane_mixing_ratio_bias_corrected\n",
       "time_utc                                       \n",
       "2021-08-01                          1865.911443\n",
       "2021-08-02                          1861.778626\n",
       "2021-08-04                          1843.632174\n",
       "2021-08-05                          1850.621098\n",
       "2021-08-06                          1887.348444"
      ]
     },
     "execution_count": 5,
     "metadata": {},
     "output_type": "execute_result"
    }
   ],
   "source": [
    "gdf_time = df_aug_ca.groupby([df_aug_ca.time_utc.dt.date]) \\\n",
    "                 .agg({'methane_mixing_ratio_bias_corrected':'mean'}) \\\n",
    "                 .reset_index()\n",
    "\n",
    "gdf_time = gdf_time.set_index(['time_utc'])\n",
    "print('gdf_time', gdf_time.shape)\n",
    "gdf_time.head()"
   ]
  },
  {
   "cell_type": "markdown",
   "metadata": {},
   "source": [
    "## SARIMA Modelling\n",
    "\n",
    "Seasonal Autoregressive Integrated Moving Average in order to predict the \"last 6 monthes given the last 3 years\".\n",
    "\n",
    "\n",
    "* https://www.youtube.com/watch?v=XPwCo4cqqt0\n",
    "* https://github.com/ritvikmath/Time-Series-Analysis/blob/master/Anomaly%20Detection.ipynb"
   ]
  },
  {
   "cell_type": "code",
   "execution_count": 6,
   "metadata": {},
   "outputs": [],
   "source": [
    "#infer the frequency of the data\n",
    "gdf_time = gdf_time.asfreq(pd.infer_freq(gdf_time.index))\n",
    "\n",
    "#Time Range\n",
    "start_date = datetime(2021,8,1)\n",
    "end_date = datetime(2021,8,31)\n",
    "date_range = pd.date_range(start = start_date, end=end_date, freq='W').tolist() # 'W' --> week, 'D' --> day\n",
    "\n",
    "lim_methane = gdf_time[start_date:end_date]"
   ]
  },
  {
   "cell_type": "code",
   "execution_count": 7,
   "metadata": {},
   "outputs": [
    {
     "data": {
      "image/png": "[encoded data removed]",
      "text/plain": [
       "<Figure size 720x288 with 1 Axes>"
      ]
     },
     "metadata": {
      "needs_background": "light"
     },
     "output_type": "display_data"
    }
   ],
   "source": [
    "plt.figure(figsize=(10,4))\n",
    "plt.plot(gdf_time)\n",
    "plt.title('Methane (ppb) Aug 2021 - California', fontsize=20)\n",
    "plt.ylabel('Mixed Methane Ratio', fontsize=16)\n",
    "for date in date_range:\n",
    "    plt.axvline(date, color='k', linestyle='--', alpha=0.2)"
   ]
  },
  {
   "cell_type": "markdown",
   "metadata": {},
   "source": [
    "### Remove Trend"
   ]
  },
  {
   "cell_type": "code",
   "execution_count": 8,
   "metadata": {},
   "outputs": [
    {
     "data": {
      "image/png": "[encoded data removed]",
      "text/plain": [
       "<Figure size 720x288 with 1 Axes>"
      ]
     },
     "metadata": {
      "needs_background": "light"
     },
     "output_type": "display_data"
    }
   ],
   "source": [
    "first_diff = lim_methane.diff()[1:]\n",
    "plt.figure(figsize=(10,4))\n",
    "plt.plot(first_diff)\n",
    "plt.title('Methane (ppb) Aug 2021 - California', fontsize=20)\n",
    "plt.ylabel('Mixed Methane Ratio', fontsize=16)\n",
    "for date in date_range:\n",
    "    plt.axvline(date, color='k', linestyle='--', alpha=0.2)"
   ]
  },
  {
   "cell_type": "markdown",
   "metadata": {},
   "source": [
    "### Train and Test Set"
   ]
  },
  {
   "cell_type": "code",
   "execution_count": 9,
   "metadata": {},
   "outputs": [
    {
     "data": {
      "text/html": [
       "<div>\n",
       "<style scoped>\n",
       "    .dataframe tbody tr th:only-of-type {\n",
       "        vertical-align: middle;\n",
       "    }\n",
       "\n",
       "    .dataframe tbody tr th {\n",
       "        vertical-align: top;\n",
       "    }\n",
       "\n",
       "    .dataframe thead th {\n",
       "        text-align: right;\n",
       "    }\n",
       "</style>\n",
       "<table border=\"1\" class=\"dataframe\">\n",
       "  <thead>\n",
       "    <tr style=\"text-align: right;\">\n",
       "      <th></th>\n",
       "      <th>methane_mixing_ratio_bias_corrected</th>\n",
       "    </tr>\n",
       "    <tr>\n",
       "      <th>time_utc</th>\n",
       "      <th></th>\n",
       "    </tr>\n",
       "  </thead>\n",
       "  <tbody>\n",
       "    <tr>\n",
       "      <th>2021-08-26</th>\n",
       "      <td>1885.032581</td>\n",
       "    </tr>\n",
       "    <tr>\n",
       "      <th>2021-08-27</th>\n",
       "      <td>1884.623396</td>\n",
       "    </tr>\n",
       "    <tr>\n",
       "      <th>2021-08-28</th>\n",
       "      <td>1882.214990</td>\n",
       "    </tr>\n",
       "    <tr>\n",
       "      <th>2021-08-29</th>\n",
       "      <td>1875.967664</td>\n",
       "    </tr>\n",
       "    <tr>\n",
       "      <th>2021-08-30</th>\n",
       "      <td>1873.118337</td>\n",
       "    </tr>\n",
       "    <tr>\n",
       "      <th>2021-08-31</th>\n",
       "      <td>1873.828397</td>\n",
       "    </tr>\n",
       "  </tbody>\n",
       "</table>\n",
       "</div>"
      ],
      "text/plain": [
       "            methane_mixing_ratio_bias_corrected\n",
       "time_utc                                       \n",
       "2021-08-26                          1885.032581\n",
       "2021-08-27                          1884.623396\n",
       "2021-08-28                          1882.214990\n",
       "2021-08-29                          1875.967664\n",
       "2021-08-30                          1873.118337\n",
       "2021-08-31                          1873.828397"
      ]
     },
     "execution_count": 9,
     "metadata": {},
     "output_type": "execute_result"
    }
   ],
   "source": [
    "train_end = datetime(2021,8,25)\n",
    "test_end = datetime(2021,9,1)\n",
    "\n",
    "test_data = lim_methane[train_end + timedelta(days=1):test_end]\n",
    "test_data"
   ]
  },
  {
   "cell_type": "markdown",
   "metadata": {},
   "source": [
    "### Make Predictions"
   ]
  },
  {
   "cell_type": "code",
   "execution_count": 10,
   "metadata": {},
   "outputs": [],
   "source": [
    "my_order = (0,1,0)\n",
    "my_seasonal_order = (1, 0, 1, 4)\n",
    "\n",
    "rolling_predictions = test_data.copy()\n",
    "for train_end in test_data.index:\n",
    "    train_data = lim_methane[:train_end]\n",
    "    model = SARIMAX(train_data, order=my_order, seasonal_order=my_seasonal_order)\n",
    "    model_fit = model.fit()\n",
    "    pred = model_fit.forecast()\n",
    "    rolling_predictions[train_end] = pred"
   ]
  },
  {
   "cell_type": "code",
   "execution_count": 11,
   "metadata": {},
   "outputs": [
    {
     "data": {
      "text/plain": [
       "Text(0, 0.5, 'Error')"
      ]
     },
     "execution_count": 11,
     "metadata": {},
     "output_type": "execute_result"
    },
    {
     "data": {
      "image/png": "[encoded data removed]",
      "text/plain": [
       "<Figure size 720x288 with 1 Axes>"
      ]
     },
     "metadata": {
      "needs_background": "light"
     },
     "output_type": "display_data"
    }
   ],
   "source": [
    "rolling_residuals = test_data - rolling_predictions\n",
    "plt.figure(figsize=(10,4))\n",
    "plt.plot(rolling_residuals)\n",
    "plt.axhline(0, linestyle='--', color='k')\n",
    "plt.title('Rolling Forecast Residuals from SARIMA Model', fontsize=20)\n",
    "plt.ylabel('Error', fontsize=16)"
   ]
  },
  {
   "cell_type": "code",
   "execution_count": 12,
   "metadata": {},
   "outputs": [
    {
     "data": {
      "image/png": "[encoded data removed]",
      "text/plain": [
       "<Figure size 720x288 with 1 Axes>"
      ]
     },
     "metadata": {
      "needs_background": "light"
     },
     "output_type": "display_data"
    }
   ],
   "source": [
    "plt.figure(figsize=(10,4))\n",
    "plt.plot(lim_methane)\n",
    "plt.plot(rolling_predictions)\n",
    "\n",
    "plt.legend(('Data', 'Predictions'), fontsize=16)\n",
    "plt.title('Methane (ppb) Aug 2021 - California', fontsize=20)\n",
    "plt.ylabel('Mixed Methane Ratio', fontsize=16)\n",
    "for date in date_range:\n",
    "    plt.axvline(date, color='k', linestyle='--', alpha=0.2)"
   ]
  },
  {
   "cell_type": "code",
   "execution_count": 13,
   "metadata": {},
   "outputs": [
    {
     "name": "stdout",
     "output_type": "stream",
     "text": [
      "Mean Absolute Percent Error: 0.0\n",
      "Root Mean Squared Error: 0.0\n"
     ]
    }
   ],
   "source": [
    "print('Mean Absolute Percent Error:', round(np.mean(abs(rolling_residuals['methane_mixing_ratio_bias_corrected']/test_data['methane_mixing_ratio_bias_corrected'])),4))\n",
    "print('Root Mean Squared Error:', np.sqrt(np.mean(rolling_residuals['methane_mixing_ratio_bias_corrected']**2)))"
   ]
  },
  {
   "cell_type": "markdown",
   "metadata": {},
   "source": [
    "### Detecting the Anomaly"
   ]
  },
  {
   "cell_type": "code",
   "execution_count": null,
   "metadata": {},
   "outputs": [],
   "source": []
  },
  {
   "cell_type": "code",
   "execution_count": null,
   "metadata": {},
   "outputs": [],
   "source": []
  },
  {
   "cell_type": "code",
   "execution_count": null,
   "metadata": {},
   "outputs": [],
   "source": []
  },
  {
   "cell_type": "code",
   "execution_count": null,
   "metadata": {},
   "outputs": [],
   "source": []
  },
  {
   "cell_type": "markdown",
   "metadata": {},
   "source": [
    "<hr>\n",
    "<hr>"
   ]
  },
  {
   "cell_type": "markdown",
   "metadata": {},
   "source": [
    "## Seasonality-Trend Decomposition using LOESS (STL)\n",
    "\n",
    "\n",
    "* https://www.youtube.com/watch?v=1NXryMoU7Ho\n",
    "* https://github.com/ritvikmath/Time-Series-Analysis/blob/master/STL%20Decomposition.ipynb"
   ]
  },
  {
   "cell_type": "code",
   "execution_count": 29,
   "metadata": {},
   "outputs": [
    {
     "data": {
      "text/html": [
       "<div>\n",
       "<style scoped>\n",
       "    .dataframe tbody tr th:only-of-type {\n",
       "        vertical-align: middle;\n",
       "    }\n",
       "\n",
       "    .dataframe tbody tr th {\n",
       "        vertical-align: top;\n",
       "    }\n",
       "\n",
       "    .dataframe thead th {\n",
       "        text-align: right;\n",
       "    }\n",
       "</style>\n",
       "<table border=\"1\" class=\"dataframe\">\n",
       "  <thead>\n",
       "    <tr style=\"text-align: right;\">\n",
       "      <th></th>\n",
       "      <th>methane_mixing_ratio_bias_corrected</th>\n",
       "    </tr>\n",
       "    <tr>\n",
       "      <th>time_utc</th>\n",
       "      <th></th>\n",
       "    </tr>\n",
       "  </thead>\n",
       "  <tbody>\n",
       "    <tr>\n",
       "      <th>2021-08-01</th>\n",
       "      <td>1865.911443</td>\n",
       "    </tr>\n",
       "    <tr>\n",
       "      <th>2021-08-02</th>\n",
       "      <td>1861.778626</td>\n",
       "    </tr>\n",
       "    <tr>\n",
       "      <th>2021-08-03</th>\n",
       "      <td>NaN</td>\n",
       "    </tr>\n",
       "    <tr>\n",
       "      <th>2021-08-04</th>\n",
       "      <td>1843.632174</td>\n",
       "    </tr>\n",
       "    <tr>\n",
       "      <th>2021-08-05</th>\n",
       "      <td>1850.621098</td>\n",
       "    </tr>\n",
       "    <tr>\n",
       "      <th>2021-08-06</th>\n",
       "      <td>1887.348444</td>\n",
       "    </tr>\n",
       "    <tr>\n",
       "      <th>2021-08-07</th>\n",
       "      <td>1867.290639</td>\n",
       "    </tr>\n",
       "    <tr>\n",
       "      <th>2021-08-08</th>\n",
       "      <td>1876.842606</td>\n",
       "    </tr>\n",
       "    <tr>\n",
       "      <th>2021-08-09</th>\n",
       "      <td>1871.324816</td>\n",
       "    </tr>\n",
       "    <tr>\n",
       "      <th>2021-08-10</th>\n",
       "      <td>1869.611509</td>\n",
       "    </tr>\n",
       "    <tr>\n",
       "      <th>2021-08-11</th>\n",
       "      <td>1868.142970</td>\n",
       "    </tr>\n",
       "    <tr>\n",
       "      <th>2021-08-12</th>\n",
       "      <td>1841.475754</td>\n",
       "    </tr>\n",
       "    <tr>\n",
       "      <th>2021-08-13</th>\n",
       "      <td>1874.137686</td>\n",
       "    </tr>\n",
       "    <tr>\n",
       "      <th>2021-08-14</th>\n",
       "      <td>1874.775282</td>\n",
       "    </tr>\n",
       "    <tr>\n",
       "      <th>2021-08-15</th>\n",
       "      <td>1871.662690</td>\n",
       "    </tr>\n",
       "    <tr>\n",
       "      <th>2021-08-16</th>\n",
       "      <td>1869.039243</td>\n",
       "    </tr>\n",
       "    <tr>\n",
       "      <th>2021-08-17</th>\n",
       "      <td>1880.435561</td>\n",
       "    </tr>\n",
       "    <tr>\n",
       "      <th>2021-08-18</th>\n",
       "      <td>1893.924839</td>\n",
       "    </tr>\n",
       "    <tr>\n",
       "      <th>2021-08-19</th>\n",
       "      <td>1895.216983</td>\n",
       "    </tr>\n",
       "    <tr>\n",
       "      <th>2021-08-20</th>\n",
       "      <td>1888.213735</td>\n",
       "    </tr>\n",
       "    <tr>\n",
       "      <th>2021-08-21</th>\n",
       "      <td>1884.114294</td>\n",
       "    </tr>\n",
       "    <tr>\n",
       "      <th>2021-08-22</th>\n",
       "      <td>1886.930134</td>\n",
       "    </tr>\n",
       "    <tr>\n",
       "      <th>2021-08-23</th>\n",
       "      <td>1880.695538</td>\n",
       "    </tr>\n",
       "    <tr>\n",
       "      <th>2021-08-24</th>\n",
       "      <td>1875.970264</td>\n",
       "    </tr>\n",
       "    <tr>\n",
       "      <th>2021-08-25</th>\n",
       "      <td>1876.265037</td>\n",
       "    </tr>\n",
       "    <tr>\n",
       "      <th>2021-08-26</th>\n",
       "      <td>1885.032581</td>\n",
       "    </tr>\n",
       "    <tr>\n",
       "      <th>2021-08-27</th>\n",
       "      <td>1884.623396</td>\n",
       "    </tr>\n",
       "    <tr>\n",
       "      <th>2021-08-28</th>\n",
       "      <td>1882.214990</td>\n",
       "    </tr>\n",
       "    <tr>\n",
       "      <th>2021-08-29</th>\n",
       "      <td>1875.967664</td>\n",
       "    </tr>\n",
       "    <tr>\n",
       "      <th>2021-08-30</th>\n",
       "      <td>1873.118337</td>\n",
       "    </tr>\n",
       "    <tr>\n",
       "      <th>2021-08-31</th>\n",
       "      <td>1873.828397</td>\n",
       "    </tr>\n",
       "  </tbody>\n",
       "</table>\n",
       "</div>"
      ],
      "text/plain": [
       "            methane_mixing_ratio_bias_corrected\n",
       "time_utc                                       \n",
       "2021-08-01                          1865.911443\n",
       "2021-08-02                          1861.778626\n",
       "2021-08-03                                  NaN\n",
       "2021-08-04                          1843.632174\n",
       "2021-08-05                          1850.621098\n",
       "2021-08-06                          1887.348444\n",
       "2021-08-07                          1867.290639\n",
       "2021-08-08                          1876.842606\n",
       "2021-08-09                          1871.324816\n",
       "2021-08-10                          1869.611509\n",
       "2021-08-11                          1868.142970\n",
       "2021-08-12                          1841.475754\n",
       "2021-08-13                          1874.137686\n",
       "2021-08-14                          1874.775282\n",
       "2021-08-15                          1871.662690\n",
       "2021-08-16                          1869.039243\n",
       "2021-08-17                          1880.435561\n",
       "2021-08-18                          1893.924839\n",
       "2021-08-19                          1895.216983\n",
       "2021-08-20                          1888.213735\n",
       "2021-08-21                          1884.114294\n",
       "2021-08-22                          1886.930134\n",
       "2021-08-23                          1880.695538\n",
       "2021-08-24                          1875.970264\n",
       "2021-08-25                          1876.265037\n",
       "2021-08-26                          1885.032581\n",
       "2021-08-27                          1884.623396\n",
       "2021-08-28                          1882.214990\n",
       "2021-08-29                          1875.967664\n",
       "2021-08-30                          1873.118337\n",
       "2021-08-31                          1873.828397"
      ]
     },
     "execution_count": 29,
     "metadata": {},
     "output_type": "execute_result"
    }
   ],
   "source": [
    "gdf_time"
   ]
  },
  {
   "cell_type": "code",
   "execution_count": 14,
   "metadata": {},
   "outputs": [],
   "source": [
    "from statsmodels.tsa.seasonal import STL\n",
    "# !pip install statsmodels==0.12.1"
   ]
  },
  {
   "cell_type": "code",
   "execution_count": 28,
   "metadata": {},
   "outputs": [],
   "source": [
    "stl = STL(gdf_time)\n",
    "result = stl.fit()\n",
    "seasonal, trend, resid = result.seasonal, result.trend, result.resid"
   ]
  },
  {
   "cell_type": "code",
   "execution_count": 22,
   "metadata": {},
   "outputs": [
    {
     "data": {
      "image/png": "[encoded data removed]",
      "text/plain": [
       "<Figure size 576x432 with 4 Axes>"
      ]
     },
     "metadata": {
      "needs_background": "light"
     },
     "output_type": "display_data"
    }
   ],
   "source": [
    "plt.figure(figsize=(8,6))\n",
    "\n",
    "plt.subplot(4,1,1)\n",
    "plt.plot(gdf_time)\n",
    "plt.title('Original Series', fontsize=16)\n",
    "\n",
    "plt.subplot(4,1,2)\n",
    "plt.plot(trend)\n",
    "plt.title('Trend', fontsize=16)\n",
    "\n",
    "plt.subplot(4,1,3)\n",
    "plt.plot(seasonal)\n",
    "plt.title('Seasonal', fontsize=16)\n",
    "\n",
    "plt.subplot(4,1,4)\n",
    "plt.plot(resid)\n",
    "plt.title('Residual', fontsize=16)\n",
    "\n",
    "plt.tight_layout()"
   ]
  },
  {
   "cell_type": "code",
   "execution_count": 24,
   "metadata": {},
   "outputs": [
    {
     "data": {
      "text/plain": [
       "[<matplotlib.lines.Line2D at 0x1c2c9e9190>]"
      ]
     },
     "execution_count": 24,
     "metadata": {},
     "output_type": "execute_result"
    },
    {
     "data": {
      "image/png": "[encoded data removed]",
      "text/plain": [
       "<Figure size 864x288 with 1 Axes>"
      ]
     },
     "metadata": {
      "needs_background": "light"
     },
     "output_type": "display_data"
    }
   ],
   "source": [
    "estimated = trend + seasonal\n",
    "plt.figure(figsize=(12,4))\n",
    "plt.plot(gdf_time)\n",
    "plt.plot(estimated)"
   ]
  },
  {
   "cell_type": "markdown",
   "metadata": {},
   "source": [
    "### Anomaly Detection"
   ]
  },
  {
   "cell_type": "code",
   "execution_count": 25,
   "metadata": {},
   "outputs": [],
   "source": [
    "resid_mu = resid.mean()\n",
    "resid_dev = resid.std()\n",
    "\n",
    "lower = resid_mu - 3*resid_dev\n",
    "upper = resid_mu + 3*resid_dev"
   ]
  },
  {
   "cell_type": "code",
   "execution_count": 26,
   "metadata": {},
   "outputs": [
    {
     "data": {
      "text/plain": [
       "(731459.0, 737760.0)"
      ]
     },
     "execution_count": 26,
     "metadata": {},
     "output_type": "execute_result"
    },
    {
     "data": {
      "image/png": "[encoded data removed]",
      "text/plain": [
       "<Figure size 720x288 with 1 Axes>"
      ]
     },
     "metadata": {
      "needs_background": "light"
     },
     "output_type": "display_data"
    }
   ],
   "source": [
    "plt.figure(figsize=(10,4))\n",
    "plt.plot(resid)\n",
    "plt.fill_between([datetime(2003,1,1), datetime(2021,8,1)], lower, upper, color='g', alpha=0.25, linestyle='--', linewidth=2)\n",
    "plt.xlim(datetime(2003,9,1), datetime(2020,12,1))"
   ]
  },
  {
   "cell_type": "code",
   "execution_count": 32,
   "metadata": {},
   "outputs": [],
   "source": [
    "anomalies = gdf_time[(resid < lower) | (resid > upper)]"
   ]
  },
  {
   "cell_type": "code",
   "execution_count": 36,
   "metadata": {},
   "outputs": [
    {
     "data": {
      "text/plain": [
       "<matplotlib.collections.PathCollection at 0x1c32f191d0>"
      ]
     },
     "execution_count": 36,
     "metadata": {},
     "output_type": "execute_result"
    },
    {
     "data": {
      "image/png": "[encoded data removed]",
      "text/plain": [
       "<Figure size 720x288 with 1 Axes>"
      ]
     },
     "metadata": {
      "needs_background": "light"
     },
     "output_type": "display_data"
    }
   ],
   "source": [
    "plt.figure(figsize=(10,4))\n",
    "plt.plot(gdf_time)\n",
    "    \n",
    "for date in date_range:\n",
    "    plt.axvline(date, color='k', linestyle='--', alpha=0.2)\n",
    "    \n",
    "plt.scatter(anomalies.index, anomalies.methane_mixing_ratio_bias_corrected, color='r', marker='D')"
   ]
  },
  {
   "cell_type": "code",
   "execution_count": 37,
   "metadata": {},
   "outputs": [
    {
     "data": {
      "text/html": [
       "<div>\n",
       "<style scoped>\n",
       "    .dataframe tbody tr th:only-of-type {\n",
       "        vertical-align: middle;\n",
       "    }\n",
       "\n",
       "    .dataframe tbody tr th {\n",
       "        vertical-align: top;\n",
       "    }\n",
       "\n",
       "    .dataframe thead th {\n",
       "        text-align: right;\n",
       "    }\n",
       "</style>\n",
       "<table border=\"1\" class=\"dataframe\">\n",
       "  <thead>\n",
       "    <tr style=\"text-align: right;\">\n",
       "      <th></th>\n",
       "      <th>methane_mixing_ratio_bias_corrected</th>\n",
       "    </tr>\n",
       "    <tr>\n",
       "      <th>time_utc</th>\n",
       "      <th></th>\n",
       "    </tr>\n",
       "  </thead>\n",
       "  <tbody>\n",
       "  </tbody>\n",
       "</table>\n",
       "</div>"
      ],
      "text/plain": [
       "Empty DataFrame\n",
       "Columns: [methane_mixing_ratio_bias_corrected]\n",
       "Index: []"
      ]
     },
     "execution_count": 37,
     "metadata": {},
     "output_type": "execute_result"
    }
   ],
   "source": [
    "anomalies"
   ]
  },
  {
   "cell_type": "code",
   "execution_count": null,
   "metadata": {},
   "outputs": [],
   "source": []
  }
 ],
 "metadata": {
  "kernelspec": {
   "display_name": "Python 3",
   "language": "python",
   "name": "python3"
  },
  "language_info": {
   "codemirror_mode": {
    "name": "ipython",
    "version": 3
   },
   "file_extension": ".py",
   "mimetype": "text/x-python",
   "name": "python",
   "nbconvert_exporter": "python",
   "pygments_lexer": "ipython3",
   "version": "3.7.4"
  }
 },
 "nbformat": 4,
 "nbformat_minor": 2
}
