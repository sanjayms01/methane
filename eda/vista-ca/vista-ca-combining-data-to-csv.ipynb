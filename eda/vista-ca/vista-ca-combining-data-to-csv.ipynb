{
 "cells": [
  {
   "cell_type": "code",
   "execution_count": 148,
   "metadata": {},
   "outputs": [],
   "source": [
    "%matplotlib inline\n",
    "\n",
    "import geopandas as gpd\n",
    "import urllib.request as urllib2 # For python3\n",
    "import numpy as np\n",
    "import pandas as pd\n",
    "import matplotlib.pyplot as plt\n",
    "import matplotlib.patches as pltp\n",
    "from sklearn import metrics\n",
    "from sklearn.decomposition import PCA\n",
    "from sklearn.cluster import KMeans\n",
    "from sklearn.mixture import GaussianMixture\n",
    "from matplotlib.colors import LogNorm\n",
    "from sklearn.metrics import accuracy_score\n",
    "import sklearn\n",
    "import matplotlib.animation as FuncAnimation\n",
    "import time\n",
    "\n",
    "#ion('display.max_rows', 1000)\n",
    "# pd.options.display.float_format = '{:,.0f}'.format\n",
    "%matplotlib inline\n",
    "\n",
    "# Define a date parser to pass to read_csv\n",
    "d = lambda x: pd.datetime.strptime(x, '%d-%b-%y')"
   ]
  },
  {
   "cell_type": "code",
   "execution_count": 224,
   "metadata": {},
   "outputs": [],
   "source": [
    "sectors = ['Vista_CA_Composting_Sites',\n",
    "            'Vista_CA_Dairies',\n",
    "            'Vista_CA_Digesters',\n",
    "            'Vista_CA_Feed_Lots',\n",
    "            'Vista_CA_Landfills',\n",
    "            'Vista_CA_NG_Fueling_Stations',\n",
    "            'Vista_CA_NG_Stations',\n",
    "            'Vista_CA_Oil_and_Gas_Facilities',\n",
    "            'Vista_CA_Oil_and_Gas_Field_Boundaries',\n",
    "            'Vista_CA_Oil_and_Gas_Wells',\n",
    "            'Vista_CA_Power_Plants',\n",
    "            'Vista_CA_Processing_Plants',\n",
    "            'Vista_CA_Refineries',\n",
    "            'Vista_CA_Storage_Fields',\n",
    "            'Vista_CA_Wastewater_Treatment_Plants']"
   ]
  },
  {
   "cell_type": "code",
   "execution_count": 225,
   "metadata": {},
   "outputs": [
    {
     "name": "stderr",
     "output_type": "stream",
     "text": [
      "C:\\Users\\johnl\\anaconda3\\lib\\site-packages\\pyproj\\crs\\crs.py:131: FutureWarning: '+init=<authority>:<code>' syntax is deprecated. '<authority>:<code>' is the preferred initialization method. When making the change, be mindful of axis order changes: https://pyproj4.github.io/pyproj/stable/gotchas.html#axis-order-changes-in-proj-6\n",
      "  in_crs_string = _prepare_from_proj_string(in_crs_string)\n"
     ]
    },
    {
     "name": "stdout",
     "output_type": "stream",
     "text": [
      "df_total shape: (430, 15)\n",
      "df shape: (430, 12)\n",
      "0.177994966506958 seconds\n"
     ]
    },
    {
     "name": "stderr",
     "output_type": "stream",
     "text": [
      "C:\\Users\\johnl\\anaconda3\\lib\\site-packages\\pyproj\\crs\\crs.py:131: FutureWarning: '+init=<authority>:<code>' syntax is deprecated. '<authority>:<code>' is the preferred initialization method. When making the change, be mindful of axis order changes: https://pyproj4.github.io/pyproj/stable/gotchas.html#axis-order-changes-in-proj-6\n",
      "  in_crs_string = _prepare_from_proj_string(in_crs_string)\n",
      "C:\\Users\\johnl\\anaconda3\\lib\\site-packages\\pyproj\\crs\\crs.py:131: FutureWarning: '+init=<authority>:<code>' syntax is deprecated. '<authority>:<code>' is the preferred initialization method. When making the change, be mindful of axis order changes: https://pyproj4.github.io/pyproj/stable/gotchas.html#axis-order-changes-in-proj-6\n",
      "  in_crs_string = _prepare_from_proj_string(in_crs_string)\n",
      "C:\\Users\\johnl\\anaconda3\\lib\\site-packages\\pyproj\\crs\\crs.py:131: FutureWarning: '+init=<authority>:<code>' syntax is deprecated. '<authority>:<code>' is the preferred initialization method. When making the change, be mindful of axis order changes: https://pyproj4.github.io/pyproj/stable/gotchas.html#axis-order-changes-in-proj-6\n",
      "  in_crs_string = _prepare_from_proj_string(in_crs_string)\n"
     ]
    },
    {
     "name": "stdout",
     "output_type": "stream",
     "text": [
      "df_total shape: (2145, 15)\n",
      "df shape: (1715, 12)\n",
      "0.35105109214782715 seconds\n",
      "df_total shape: (2178, 15)\n",
      "df shape: (33, 11)\n",
      "0.037996768951416016 seconds\n",
      "df_total shape: (2250, 15)\n",
      "df shape: (72, 12)\n",
      "0.04104757308959961 seconds\n"
     ]
    },
    {
     "name": "stderr",
     "output_type": "stream",
     "text": [
      "C:\\Users\\johnl\\anaconda3\\lib\\site-packages\\pyproj\\crs\\crs.py:131: FutureWarning: '+init=<authority>:<code>' syntax is deprecated. '<authority>:<code>' is the preferred initialization method. When making the change, be mindful of axis order changes: https://pyproj4.github.io/pyproj/stable/gotchas.html#axis-order-changes-in-proj-6\n",
      "  in_crs_string = _prepare_from_proj_string(in_crs_string)\n"
     ]
    },
    {
     "name": "stdout",
     "output_type": "stream",
     "text": [
      "df_total shape: (2964, 15)\n",
      "df shape: (714, 11)\n",
      "0.34295201301574707 seconds\n",
      "df_total shape: (3172, 15)\n",
      "df shape: "
     ]
    },
    {
     "name": "stderr",
     "output_type": "stream",
     "text": [
      "C:\\Users\\johnl\\anaconda3\\lib\\site-packages\\pyproj\\crs\\crs.py:131: FutureWarning: '+init=<authority>:<code>' syntax is deprecated. '<authority>:<code>' is the preferred initialization method. When making the change, be mindful of axis order changes: https://pyproj4.github.io/pyproj/stable/gotchas.html#axis-order-changes-in-proj-6\n",
      "  in_crs_string = _prepare_from_proj_string(in_crs_string)\n",
      "C:\\Users\\johnl\\anaconda3\\lib\\site-packages\\pyproj\\crs\\crs.py:131: FutureWarning: '+init=<authority>:<code>' syntax is deprecated. '<authority>:<code>' is the preferred initialization method. When making the change, be mindful of axis order changes: https://pyproj4.github.io/pyproj/stable/gotchas.html#axis-order-changes-in-proj-6\n",
      "  in_crs_string = _prepare_from_proj_string(in_crs_string)\n"
     ]
    },
    {
     "name": "stdout",
     "output_type": "stream",
     "text": [
      "(208, 12)\n",
      "0.1889944076538086 seconds\n",
      "df_total shape: (4292, 15)\n",
      "df shape: (1120, 12)\n",
      "0.3050062656402588 seconds\n"
     ]
    },
    {
     "name": "stderr",
     "output_type": "stream",
     "text": [
      "C:\\Users\\johnl\\anaconda3\\lib\\site-packages\\pyproj\\crs\\crs.py:131: FutureWarning: '+init=<authority>:<code>' syntax is deprecated. '<authority>:<code>' is the preferred initialization method. When making the change, be mindful of axis order changes: https://pyproj4.github.io/pyproj/stable/gotchas.html#axis-order-changes-in-proj-6\n",
      "  in_crs_string = _prepare_from_proj_string(in_crs_string)\n"
     ]
    },
    {
     "name": "stdout",
     "output_type": "stream",
     "text": [
      "df_total shape: (7648, 15)\n",
      "df shape: (3356, 11)\n",
      "0.7625179290771484 seconds\n",
      "df_total shape: (8164, 15)\n",
      "df shape: (516, 9)\n",
      "0.14400577545166016 seconds\n"
     ]
    },
    {
     "name": "stderr",
     "output_type": "stream",
     "text": [
      "C:\\Users\\johnl\\anaconda3\\lib\\site-packages\\pyproj\\crs\\crs.py:131: FutureWarning: '+init=<authority>:<code>' syntax is deprecated. '<authority>:<code>' is the preferred initialization method. When making the change, be mindful of axis order changes: https://pyproj4.github.io/pyproj/stable/gotchas.html#axis-order-changes-in-proj-6\n",
      "  in_crs_string = _prepare_from_proj_string(in_crs_string)\n",
      "C:\\Users\\johnl\\anaconda3\\lib\\site-packages\\pyproj\\crs\\crs.py:131: FutureWarning: '+init=<authority>:<code>' syntax is deprecated. '<authority>:<code>' is the preferred initialization method. When making the change, be mindful of axis order changes: https://pyproj4.github.io/pyproj/stable/gotchas.html#axis-order-changes-in-proj-6\n",
      "  in_crs_string = _prepare_from_proj_string(in_crs_string)\n"
     ]
    },
    {
     "name": "stdout",
     "output_type": "stream",
     "text": [
      "df_total shape: (233930, 15)\n",
      "df shape: (225766, 12)\n",
      "37.48317337036133 seconds\n"
     ]
    },
    {
     "name": "stderr",
     "output_type": "stream",
     "text": [
      "C:\\Users\\johnl\\anaconda3\\lib\\site-packages\\pyproj\\crs\\crs.py:131: FutureWarning: '+init=<authority>:<code>' syntax is deprecated. '<authority>:<code>' is the preferred initialization method. When making the change, be mindful of axis order changes: https://pyproj4.github.io/pyproj/stable/gotchas.html#axis-order-changes-in-proj-6\n",
      "  in_crs_string = _prepare_from_proj_string(in_crs_string)\n"
     ]
    },
    {
     "name": "stdout",
     "output_type": "stream",
     "text": [
      "df_total shape: (234363, 15)\n",
      "df shape: (433, 12)\n",
      "0.7534093856811523 seconds\n"
     ]
    },
    {
     "name": "stderr",
     "output_type": "stream",
     "text": [
      "C:\\Users\\johnl\\anaconda3\\lib\\site-packages\\pyproj\\crs\\crs.py:131: FutureWarning: '+init=<authority>:<code>' syntax is deprecated. '<authority>:<code>' is the preferred initialization method. When making the change, be mindful of axis order changes: https://pyproj4.github.io/pyproj/stable/gotchas.html#axis-order-changes-in-proj-6\n",
      "  in_crs_string = _prepare_from_proj_string(in_crs_string)\n"
     ]
    },
    {
     "name": "stdout",
     "output_type": "stream",
     "text": [
      "df_total shape: (234389, 15)\n",
      "df shape: (26, 12)\n",
      "0.5055532455444336 seconds\n"
     ]
    },
    {
     "name": "stderr",
     "output_type": "stream",
     "text": [
      "C:\\Users\\johnl\\anaconda3\\lib\\site-packages\\pyproj\\crs\\crs.py:131: FutureWarning: '+init=<authority>:<code>' syntax is deprecated. '<authority>:<code>' is the preferred initialization method. When making the change, be mindful of axis order changes: https://pyproj4.github.io/pyproj/stable/gotchas.html#axis-order-changes-in-proj-6\n",
      "  in_crs_string = _prepare_from_proj_string(in_crs_string)\n"
     ]
    },
    {
     "name": "stdout",
     "output_type": "stream",
     "text": [
      "df_total shape: (234415, 15)\n",
      "df shape: (26, 12)\n",
      "0.5439989566802979 seconds\n"
     ]
    },
    {
     "name": "stderr",
     "output_type": "stream",
     "text": [
      "C:\\Users\\johnl\\anaconda3\\lib\\site-packages\\pyproj\\crs\\crs.py:131: FutureWarning: '+init=<authority>:<code>' syntax is deprecated. '<authority>:<code>' is the preferred initialization method. When making the change, be mindful of axis order changes: https://pyproj4.github.io/pyproj/stable/gotchas.html#axis-order-changes-in-proj-6\n",
      "  in_crs_string = _prepare_from_proj_string(in_crs_string)\n"
     ]
    },
    {
     "name": "stdout",
     "output_type": "stream",
     "text": [
      "df_total shape: (234427, 15)\n",
      "df shape: (12, 12)\n",
      "0.501002311706543 seconds\n"
     ]
    },
    {
     "name": "stderr",
     "output_type": "stream",
     "text": [
      "C:\\Users\\johnl\\anaconda3\\lib\\site-packages\\pyproj\\crs\\crs.py:131: FutureWarning: '+init=<authority>:<code>' syntax is deprecated. '<authority>:<code>' is the preferred initialization method. When making the change, be mindful of axis order changes: https://pyproj4.github.io/pyproj/stable/gotchas.html#axis-order-changes-in-proj-6\n",
      "  in_crs_string = _prepare_from_proj_string(in_crs_string)\n"
     ]
    },
    {
     "name": "stdout",
     "output_type": "stream",
     "text": [
      "df_total shape: (234576, 15)\n",
      "df shape: (149, 12)\n",
      "0.5660011768341064 seconds\n",
      "42.70870590209961 seconds\n"
     ]
    }
   ],
   "source": [
    "#columns to keep\n",
    "globe_col = ['vistaname', 'vistadate', 'vista_date', 'state', 'vistastype', 'latitude', 'city', 'longitude', 'geometry', 'county', 'vistaipcc', 'vista_id', 'source']\n",
    "\n",
    "#new dataframe for all sectors\n",
    "df_total = pd.DataFrame(columns=globe_col)\n",
    "total_start=time.time()\n",
    "\n",
    "# Loop over each shape file (which is by sector) and append to total dataframe\n",
    "for s in sectors:\n",
    "    start=time.time()\n",
    "    \n",
    "    #read data\n",
    "    input_file = str(s)+\".shp\"\n",
    "    df = gpd.read_file(\"data/vista-ca/\"+input_file)\n",
    "    \n",
    "    #rename columns to be consistent\n",
    "    columns=[c.replace(\"_\",\"\") for c in df.columns.str.lower()]\n",
    "    df.columns= columns\n",
    "    \n",
    "    #calculate area for each row\n",
    "    df = df.to_crs({'init': 'epsg:6933'})\n",
    "    df[\"area_km2\"] = df['geometry'].area/ 10**6\n",
    "    \n",
    "    #combine dataframe\n",
    "    df_total = pd.concat([df_total, df], ignore_index=True)\n",
    "    \n",
    "    #checking each loop\n",
    "    print(\"df_total shape:\", df_total.shape)\n",
    "    print(\"df shape:\", df.shape)\n",
    "    end=time.time()\n",
    "    print(end-start, \"seconds\")\n",
    "print(time.time()-total_start, \"seconds\")"
   ]
  },
  {
   "cell_type": "code",
   "execution_count": 226,
   "metadata": {},
   "outputs": [
    {
     "name": "stdout",
     "output_type": "stream",
     "text": [
      "Index(['vistaname', 'vistadate', 'vista_date', 'state', 'vistastype',\n",
      "       'latitude', 'city', 'longitude', 'geometry', 'county', 'vistaipcc',\n",
      "       'vista_id', 'source', 'vistaid', 'area_km2'],\n",
      "      dtype='object')\n",
      "(234576, 15)\n"
     ]
    },
    {
     "data": {
      "text/html": [
       "<div>\n",
       "<style scoped>\n",
       "    .dataframe tbody tr th:only-of-type {\n",
       "        vertical-align: middle;\n",
       "    }\n",
       "\n",
       "    .dataframe tbody tr th {\n",
       "        vertical-align: top;\n",
       "    }\n",
       "\n",
       "    .dataframe thead th {\n",
       "        text-align: right;\n",
       "    }\n",
       "</style>\n",
       "<table border=\"1\" class=\"dataframe\">\n",
       "  <thead>\n",
       "    <tr style=\"text-align: right;\">\n",
       "      <th></th>\n",
       "      <th>vistaname</th>\n",
       "      <th>vistadate</th>\n",
       "      <th>vista_date</th>\n",
       "      <th>state</th>\n",
       "      <th>vistastype</th>\n",
       "      <th>latitude</th>\n",
       "      <th>city</th>\n",
       "      <th>longitude</th>\n",
       "      <th>geometry</th>\n",
       "      <th>county</th>\n",
       "      <th>vistaipcc</th>\n",
       "      <th>vista_id</th>\n",
       "      <th>source</th>\n",
       "      <th>vistaid</th>\n",
       "      <th>area_km2</th>\n",
       "    </tr>\n",
       "  </thead>\n",
       "  <tbody>\n",
       "    <tr>\n",
       "      <th>0</th>\n",
       "      <td>3D Ag, LLC</td>\n",
       "      <td>2019-08-20</td>\n",
       "      <td>NaN</td>\n",
       "      <td>CA</td>\n",
       "      <td>Composting Sites</td>\n",
       "      <td>37.727990</td>\n",
       "      <td>Oakdale</td>\n",
       "      <td>-120.898650</td>\n",
       "      <td>POLYGON ((-11665061.026 4480227.590, -11665059...</td>\n",
       "      <td>NaN</td>\n",
       "      <td>4B Biological Treatment of Solid Waste</td>\n",
       "      <td>NaN</td>\n",
       "      <td>CalRecycle</td>\n",
       "      <td>CMP000001</td>\n",
       "      <td>0.000313</td>\n",
       "    </tr>\n",
       "    <tr>\n",
       "      <th>1</th>\n",
       "      <td>A. Lua Recycling, Inc.</td>\n",
       "      <td>2019-08-20</td>\n",
       "      <td>NaN</td>\n",
       "      <td>CA</td>\n",
       "      <td>Composting Sites</td>\n",
       "      <td>33.709990</td>\n",
       "      <td>Lake Elsinore</td>\n",
       "      <td>-117.328640</td>\n",
       "      <td>POLYGON ((-11320604.040 4062242.598, -11320602...</td>\n",
       "      <td>NaN</td>\n",
       "      <td>4B Biological Treatment of Solid Waste</td>\n",
       "      <td>NaN</td>\n",
       "      <td>CalRecycle</td>\n",
       "      <td>CMP000002</td>\n",
       "      <td>0.000313</td>\n",
       "    </tr>\n",
       "    <tr>\n",
       "      <th>2</th>\n",
       "      <td>Acme Composting Compost Facility</td>\n",
       "      <td>2019-08-20</td>\n",
       "      <td>NaN</td>\n",
       "      <td>CA</td>\n",
       "      <td>Composting Sites</td>\n",
       "      <td>38.016670</td>\n",
       "      <td>Martinez</td>\n",
       "      <td>-122.133330</td>\n",
       "      <td>POLYGON ((-11784190.706 4509445.970, -11784188...</td>\n",
       "      <td>NaN</td>\n",
       "      <td>4B Biological Treatment of Solid Waste</td>\n",
       "      <td>NaN</td>\n",
       "      <td>CalRecycle</td>\n",
       "      <td>CMP000003</td>\n",
       "      <td>0.000313</td>\n",
       "    </tr>\n",
       "    <tr>\n",
       "      <th>3</th>\n",
       "      <td>Adams Garden Supply</td>\n",
       "      <td>2019-08-20</td>\n",
       "      <td>NaN</td>\n",
       "      <td>CA</td>\n",
       "      <td>Composting Sites</td>\n",
       "      <td>34.032810</td>\n",
       "      <td>Los Angeles (City)</td>\n",
       "      <td>-118.354240</td>\n",
       "      <td>POLYGON ((-11419560.370 4096579.198, -11419558...</td>\n",
       "      <td>NaN</td>\n",
       "      <td>4B Biological Treatment of Solid Waste</td>\n",
       "      <td>NaN</td>\n",
       "      <td>CalRecycle</td>\n",
       "      <td>CMP000004</td>\n",
       "      <td>0.000313</td>\n",
       "    </tr>\n",
       "    <tr>\n",
       "      <th>4</th>\n",
       "      <td>Advance Disposal Center for the Environm</td>\n",
       "      <td>2019-08-20</td>\n",
       "      <td>NaN</td>\n",
       "      <td>CA</td>\n",
       "      <td>Composting Sites</td>\n",
       "      <td>34.445170</td>\n",
       "      <td>Hesperia</td>\n",
       "      <td>-117.290070</td>\n",
       "      <td>POLYGON ((-11316882.565 4140253.342, -11316880...</td>\n",
       "      <td>NaN</td>\n",
       "      <td>4B Biological Treatment of Solid Waste</td>\n",
       "      <td>NaN</td>\n",
       "      <td>CalRecycle</td>\n",
       "      <td>CMP000005</td>\n",
       "      <td>0.000313</td>\n",
       "    </tr>\n",
       "    <tr>\n",
       "      <th>...</th>\n",
       "      <td>...</td>\n",
       "      <td>...</td>\n",
       "      <td>...</td>\n",
       "      <td>...</td>\n",
       "      <td>...</td>\n",
       "      <td>...</td>\n",
       "      <td>...</td>\n",
       "      <td>...</td>\n",
       "      <td>...</td>\n",
       "      <td>...</td>\n",
       "      <td>...</td>\n",
       "      <td>...</td>\n",
       "      <td>...</td>\n",
       "      <td>...</td>\n",
       "      <td>...</td>\n",
       "    </tr>\n",
       "    <tr>\n",
       "      <th>234571</th>\n",
       "      <td>Whittier Narrows Water Reclamation Plant</td>\n",
       "      <td>2019-08-20</td>\n",
       "      <td>NaN</td>\n",
       "      <td>CA</td>\n",
       "      <td>Wastewater Treatment Plant</td>\n",
       "      <td>34.032433</td>\n",
       "      <td>El Monte</td>\n",
       "      <td>-118.068310</td>\n",
       "      <td>POLYGON Z ((-11391825.325 4096379.873 0.000, -...</td>\n",
       "      <td>NaN</td>\n",
       "      <td>4D1 &amp; 4D2 Domestic Wastewater Treatment and Di...</td>\n",
       "      <td>NaN</td>\n",
       "      <td>CARB</td>\n",
       "      <td>WWT000146</td>\n",
       "      <td>0.044999</td>\n",
       "    </tr>\n",
       "    <tr>\n",
       "      <th>234572</th>\n",
       "      <td>Rialto WRF</td>\n",
       "      <td>2019-08-20</td>\n",
       "      <td>NaN</td>\n",
       "      <td>CA</td>\n",
       "      <td>Wastewater Treatment Plant</td>\n",
       "      <td>34.053708</td>\n",
       "      <td>Bloomingon</td>\n",
       "      <td>-117.360473</td>\n",
       "      <td>POLYGON Z ((-11323768.086 4099018.192 0.000, -...</td>\n",
       "      <td>NaN</td>\n",
       "      <td>4D1 &amp; 4D2 Domestic Wastewater Treatment and Di...</td>\n",
       "      <td>NaN</td>\n",
       "      <td>CARB</td>\n",
       "      <td>WWT000100</td>\n",
       "      <td>0.107301</td>\n",
       "    </tr>\n",
       "    <tr>\n",
       "      <th>234573</th>\n",
       "      <td>Colton</td>\n",
       "      <td>2019-08-20</td>\n",
       "      <td>NaN</td>\n",
       "      <td>CA</td>\n",
       "      <td>Wastewater Treatment Plant</td>\n",
       "      <td>34.050912</td>\n",
       "      <td>Colton</td>\n",
       "      <td>-117.336137</td>\n",
       "      <td>POLYGON Z ((-11321148.410 4098659.169 0.000, -...</td>\n",
       "      <td>NaN</td>\n",
       "      <td>4D1 &amp; 4D2 Domestic Wastewater Treatment and Di...</td>\n",
       "      <td>NaN</td>\n",
       "      <td>CARB</td>\n",
       "      <td>WWT000019</td>\n",
       "      <td>0.156454</td>\n",
       "    </tr>\n",
       "    <tr>\n",
       "      <th>234574</th>\n",
       "      <td>Yucaipa Valley Henry N. Wochholtz WWTP</td>\n",
       "      <td>2019-08-20</td>\n",
       "      <td>NaN</td>\n",
       "      <td>CA</td>\n",
       "      <td>Wastewater Treatment Plant</td>\n",
       "      <td>34.006827</td>\n",
       "      <td>Yucaipa</td>\n",
       "      <td>-117.094498</td>\n",
       "      <td>POLYGON Z ((-11298522.590 4093925.997 0.000, -...</td>\n",
       "      <td>NaN</td>\n",
       "      <td>4D1 &amp; 4D2 Domestic Wastewater Treatment and Di...</td>\n",
       "      <td>NaN</td>\n",
       "      <td>CARB</td>\n",
       "      <td>WWT000148</td>\n",
       "      <td>0.077268</td>\n",
       "    </tr>\n",
       "    <tr>\n",
       "      <th>234575</th>\n",
       "      <td>Alvarado Water Treatment Plant</td>\n",
       "      <td>2019-08-20</td>\n",
       "      <td>NaN</td>\n",
       "      <td>CA</td>\n",
       "      <td>Wastewater Treatment Plant</td>\n",
       "      <td>32.780446</td>\n",
       "      <td>San Diego</td>\n",
       "      <td>-117.043184</td>\n",
       "      <td>POLYGON Z ((-11292773.290 3962902.904 0.000, -...</td>\n",
       "      <td>NaN</td>\n",
       "      <td>4D1 &amp; 4D2 Domestic Wastewater Treatment and Di...</td>\n",
       "      <td>NaN</td>\n",
       "      <td>RAFIQ</td>\n",
       "      <td>WWT000149</td>\n",
       "      <td>0.177069</td>\n",
       "    </tr>\n",
       "  </tbody>\n",
       "</table>\n",
       "<p>234576 rows × 15 columns</p>\n",
       "</div>"
      ],
      "text/plain": [
       "                                       vistaname   vistadate vista_date state  \\\n",
       "0                                     3D Ag, LLC  2019-08-20        NaN    CA   \n",
       "1                         A. Lua Recycling, Inc.  2019-08-20        NaN    CA   \n",
       "2               Acme Composting Compost Facility  2019-08-20        NaN    CA   \n",
       "3                            Adams Garden Supply  2019-08-20        NaN    CA   \n",
       "4       Advance Disposal Center for the Environm  2019-08-20        NaN    CA   \n",
       "...                                          ...         ...        ...   ...   \n",
       "234571  Whittier Narrows Water Reclamation Plant  2019-08-20        NaN    CA   \n",
       "234572                                Rialto WRF  2019-08-20        NaN    CA   \n",
       "234573                                    Colton  2019-08-20        NaN    CA   \n",
       "234574    Yucaipa Valley Henry N. Wochholtz WWTP  2019-08-20        NaN    CA   \n",
       "234575            Alvarado Water Treatment Plant  2019-08-20        NaN    CA   \n",
       "\n",
       "                        vistastype   latitude                city   longitude  \\\n",
       "0                 Composting Sites  37.727990             Oakdale -120.898650   \n",
       "1                 Composting Sites  33.709990       Lake Elsinore -117.328640   \n",
       "2                 Composting Sites  38.016670            Martinez -122.133330   \n",
       "3                 Composting Sites  34.032810  Los Angeles (City) -118.354240   \n",
       "4                 Composting Sites  34.445170            Hesperia -117.290070   \n",
       "...                            ...        ...                 ...         ...   \n",
       "234571  Wastewater Treatment Plant  34.032433            El Monte -118.068310   \n",
       "234572  Wastewater Treatment Plant  34.053708          Bloomingon -117.360473   \n",
       "234573  Wastewater Treatment Plant  34.050912              Colton -117.336137   \n",
       "234574  Wastewater Treatment Plant  34.006827             Yucaipa -117.094498   \n",
       "234575  Wastewater Treatment Plant  32.780446           San Diego -117.043184   \n",
       "\n",
       "                                                 geometry county  \\\n",
       "0       POLYGON ((-11665061.026 4480227.590, -11665059...    NaN   \n",
       "1       POLYGON ((-11320604.040 4062242.598, -11320602...    NaN   \n",
       "2       POLYGON ((-11784190.706 4509445.970, -11784188...    NaN   \n",
       "3       POLYGON ((-11419560.370 4096579.198, -11419558...    NaN   \n",
       "4       POLYGON ((-11316882.565 4140253.342, -11316880...    NaN   \n",
       "...                                                   ...    ...   \n",
       "234571  POLYGON Z ((-11391825.325 4096379.873 0.000, -...    NaN   \n",
       "234572  POLYGON Z ((-11323768.086 4099018.192 0.000, -...    NaN   \n",
       "234573  POLYGON Z ((-11321148.410 4098659.169 0.000, -...    NaN   \n",
       "234574  POLYGON Z ((-11298522.590 4093925.997 0.000, -...    NaN   \n",
       "234575  POLYGON Z ((-11292773.290 3962902.904 0.000, -...    NaN   \n",
       "\n",
       "                                                vistaipcc vista_id  \\\n",
       "0                  4B Biological Treatment of Solid Waste      NaN   \n",
       "1                  4B Biological Treatment of Solid Waste      NaN   \n",
       "2                  4B Biological Treatment of Solid Waste      NaN   \n",
       "3                  4B Biological Treatment of Solid Waste      NaN   \n",
       "4                  4B Biological Treatment of Solid Waste      NaN   \n",
       "...                                                   ...      ...   \n",
       "234571  4D1 & 4D2 Domestic Wastewater Treatment and Di...      NaN   \n",
       "234572  4D1 & 4D2 Domestic Wastewater Treatment and Di...      NaN   \n",
       "234573  4D1 & 4D2 Domestic Wastewater Treatment and Di...      NaN   \n",
       "234574  4D1 & 4D2 Domestic Wastewater Treatment and Di...      NaN   \n",
       "234575  4D1 & 4D2 Domestic Wastewater Treatment and Di...      NaN   \n",
       "\n",
       "            source    vistaid  area_km2  \n",
       "0       CalRecycle  CMP000001  0.000313  \n",
       "1       CalRecycle  CMP000002  0.000313  \n",
       "2       CalRecycle  CMP000003  0.000313  \n",
       "3       CalRecycle  CMP000004  0.000313  \n",
       "4       CalRecycle  CMP000005  0.000313  \n",
       "...            ...        ...       ...  \n",
       "234571        CARB  WWT000146  0.044999  \n",
       "234572        CARB  WWT000100  0.107301  \n",
       "234573        CARB  WWT000019  0.156454  \n",
       "234574        CARB  WWT000148  0.077268  \n",
       "234575       RAFIQ  WWT000149  0.177069  \n",
       "\n",
       "[234576 rows x 15 columns]"
      ]
     },
     "execution_count": 226,
     "metadata": {},
     "output_type": "execute_result"
    }
   ],
   "source": [
    "print(df_total.columns)\n",
    "print(df_total.shape)\n",
    "df_total.head()"
   ]
  },
  {
   "cell_type": "code",
   "execution_count": 227,
   "metadata": {},
   "outputs": [
    {
     "name": "stderr",
     "output_type": "stream",
     "text": [
      "C:\\Users\\johnl\\anaconda3\\lib\\site-packages\\pandas\\core\\frame.py:4163: SettingWithCopyWarning: \n",
      "A value is trying to be set on a copy of a slice from a DataFrame\n",
      "\n",
      "See the caveats in the documentation: https://pandas.pydata.org/pandas-docs/stable/user_guide/indexing.html#returning-a-view-versus-a-copy\n",
      "  return super().drop(\n"
     ]
    }
   ],
   "source": [
    "#Drop a few more columns and data\n",
    "df_total = df_total[df_total['latitude'].notna()]\n",
    "df_total.drop(['vista_date','vista_id','geometry'], axis=1, inplace=True)"
   ]
  },
  {
   "cell_type": "code",
   "execution_count": 228,
   "metadata": {},
   "outputs": [
    {
     "data": {
      "text/plain": [
       "vistaname        219\n",
       "vistadate          0\n",
       "state            747\n",
       "vistastype         0\n",
       "latitude           0\n",
       "city            4476\n",
       "longitude          0\n",
       "county        232940\n",
       "vistaipcc          0\n",
       "source             0\n",
       "vistaid            0\n",
       "area_km2           0\n",
       "dtype: int64"
      ]
     },
     "execution_count": 228,
     "metadata": {},
     "output_type": "execute_result"
    }
   ],
   "source": [
    "#Summary\n",
    "df_total.isnull().sum()"
   ]
  },
  {
   "cell_type": "code",
   "execution_count": 207,
   "metadata": {},
   "outputs": [
    {
     "data": {
      "text/plain": [
       "(234060, 13)"
      ]
     },
     "execution_count": 207,
     "metadata": {},
     "output_type": "execute_result"
    }
   ],
   "source": [
    "df_total.shape"
   ]
  },
  {
   "cell_type": "code",
   "execution_count": 223,
   "metadata": {},
   "outputs": [
    {
     "name": "stdout",
     "output_type": "stream",
     "text": [
      "<class 'pandas.core.frame.DataFrame'>\n",
      "Int64Index: 8294 entries, 0 to 8809\n",
      "Data columns (total 12 columns):\n",
      " #   Column      Non-Null Count  Dtype  \n",
      "---  ------      --------------  -----  \n",
      " 0   vistaname   8286 non-null   object \n",
      " 1   vistadate   8294 non-null   object \n",
      " 2   state       7547 non-null   object \n",
      " 3   vistastype  8294 non-null   object \n",
      " 4   latitude    8294 non-null   float64\n",
      " 5   city        3818 non-null   object \n",
      " 6   longitude   8294 non-null   float64\n",
      " 7   county      1120 non-null   object \n",
      " 8   vistaipcc   8294 non-null   object \n",
      " 9   source      8294 non-null   object \n",
      " 10  vistaid     8294 non-null   object \n",
      " 11  area_km2    8294 non-null   float64\n",
      "dtypes: float64(3), object(9)\n",
      "memory usage: 4.8 MB\n"
     ]
    }
   ],
   "source": [
    "df_total.info(memory_usage=\"deep\")"
   ]
  },
  {
   "cell_type": "code",
   "execution_count": 234,
   "metadata": {},
   "outputs": [],
   "source": [
    "df_total = df_total[['vistaid', 'vistaname', 'vistastype', 'latitude', 'longitude', 'area_km2', 'vistaipcc', 'source', 'vistadate', 'state',  'city',  'county']]\n",
    "df_total\n",
    "df_total.to_csv('data/vista-ca/vista-ca-combined.csv')"
   ]
  }
 ],
 "metadata": {
  "kernelspec": {
   "display_name": "Python 3",
   "language": "python",
   "name": "python3"
  },
  "language_info": {
   "codemirror_mode": {
    "name": "ipython",
    "version": 3
   },
   "file_extension": ".py",
   "mimetype": "text/x-python",
   "name": "python",
   "nbconvert_exporter": "python",
   "pygments_lexer": "ipython3",
   "version": "3.8.5"
  }
 },
 "nbformat": 4,
 "nbformat_minor": 4
}
