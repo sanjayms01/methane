{
 "cells": [
  {
   "cell_type": "code",
   "execution_count": 8,
   "metadata": {},
   "outputs": [],
   "source": [
    "import pandas as pd\n",
    "import numpy as np\n",
    "from osgeo import gdal\n",
    "import matplotlib.pyplot as plt\n",
    "import earthpy.plot as epp\n",
    "import earthpy as ep\n",
    "from glob import glob"
   ]
  },
  {
   "cell_type": "markdown",
   "metadata": {},
   "source": [
    "### GDAL Exploration"
   ]
  },
  {
   "cell_type": "code",
   "execution_count": 15,
   "metadata": {},
   "outputs": [],
   "source": [
    "#Open File\n",
    "file_names = ['enteric','manure','total']\n",
    "file_path = 'data/{0}_CH4_Gg_km2.tif'.format(file_names[1])\n",
    "\n",
    "dataset = gdal.Open(file_path, gdal.GA_ReadOnly) "
   ]
  },
  {
   "cell_type": "code",
   "execution_count": 29,
   "metadata": {},
   "outputs": [
    {
     "name": "stdout",
     "output_type": "stream",
     "text": [
      "Driver: GTiff/GeoTIFF\r\n",
      "Files: data/manure_CH4_Gg_km2.tif\r\n",
      "Size is 90, 92\r\n",
      "Coordinate System is:\r\n",
      "GEOGCS[\"WGS 84\",\r\n",
      "    DATUM[\"WGS_1984\",\r\n",
      "        SPHEROID[\"WGS 84\",6378137,298.257223563,\r\n",
      "            AUTHORITY[\"EPSG\",\"7030\"]],\r\n",
      "        AUTHORITY[\"EPSG\",\"6326\"]],\r\n",
      "    PRIMEM[\"Greenwich\",0],\r\n",
      "    UNIT[\"degree\",0.0174532925199433],\r\n",
      "    AUTHORITY[\"EPSG\",\"4326\"]]\r\n",
      "Origin = (-124.290461078000007,41.926291697499998)\r\n",
      "Pixel Size = (0.100000000000000,-0.100000000000000)\r\n",
      "Metadata:\r\n",
      "  AREA_OR_POINT=Area\r\n",
      "Image Structure Metadata:\r\n",
      "  INTERLEAVE=BAND\r\n",
      "Corner Coordinates:\r\n",
      "Upper Left  (-124.2904611,  41.9262917) (124d17'25.66\"W, 41d55'34.65\"N)\r\n",
      "Lower Left  (-124.2904611,  32.7262917) (124d17'25.66\"W, 32d43'34.65\"N)\r\n",
      "Upper Right (-115.2904611,  41.9262917) (115d17'25.66\"W, 41d55'34.65\"N)\r\n",
      "Lower Right (-115.2904611,  32.7262917) (115d17'25.66\"W, 32d43'34.65\"N)\r\n",
      "Center      (-119.7904611,  37.3262917) (119d47'25.66\"W, 37d19'34.65\"N)\r\n",
      "Band 1 Block=128x128 Type=Float32, ColorInterp=Gray\r\n",
      "  NoData Value=-9999\r\n",
      "  Metadata:\r\n",
      "    RepresentationType=ATHEMATIC\r\n"
     ]
    }
   ],
   "source": [
    "!gdalinfo {file_path}"
   ]
  },
  {
   "cell_type": "code",
   "execution_count": 16,
   "metadata": {},
   "outputs": [
    {
     "data": {
      "text/plain": [
       "(-124.290461078, 0.1, 0.0, 41.9262916975, 0.0, -0.10000000000000003)"
      ]
     },
     "execution_count": 16,
     "metadata": {},
     "output_type": "execute_result"
    }
   ],
   "source": [
    "# (x-coordinate of top left corner, \n",
    "# horizontal pixel resolution west-> east,\n",
    "# unknown,\n",
    "# y-coordinate of top left corner,\n",
    "# unknown,\n",
    "# vertical pixel resolution north-> south,\n",
    "# )\n",
    "gt = dataset.GetGeoTransform()\n",
    "gt"
   ]
  },
  {
   "cell_type": "code",
   "execution_count": 17,
   "metadata": {},
   "outputs": [
    {
     "data": {
      "text/plain": [
       "'GEOGCS[\"WGS 84\",DATUM[\"WGS_1984\",SPHEROID[\"WGS 84\",6378137,298.257223563,AUTHORITY[\"EPSG\",\"7030\"]],AUTHORITY[\"EPSG\",\"6326\"]],PRIMEM[\"Greenwich\",0],UNIT[\"degree\",0.0174532925199433],AUTHORITY[\"EPSG\",\"4326\"]]'"
      ]
     },
     "execution_count": 17,
     "metadata": {},
     "output_type": "execute_result"
    }
   ],
   "source": [
    "proj = dataset.GetProjection()\n",
    "proj"
   ]
  },
  {
   "cell_type": "code",
   "execution_count": 18,
   "metadata": {},
   "outputs": [
    {
     "data": {
      "text/plain": [
       "1"
      ]
     },
     "execution_count": 18,
     "metadata": {},
     "output_type": "execute_result"
    }
   ],
   "source": [
    "# Check number of Raster bands, each band essentially is a data point per the actual geo point\n",
    "dataset.RasterCount"
   ]
  },
  {
   "cell_type": "code",
   "execution_count": 19,
   "metadata": {},
   "outputs": [],
   "source": [
    "#Access individual pixel values, indicate the methane emissions in theory...? \n",
    "# Note GetRasterBand() takes band no. starting from 1 not 0\n",
    "band = dataset.GetRasterBand(1)\n",
    "arr = band.ReadAsArray()"
   ]
  },
  {
   "cell_type": "code",
   "execution_count": 20,
   "metadata": {},
   "outputs": [
    {
     "data": {
      "text/plain": [
       "<matplotlib.image.AxesImage at 0x1c3a9a2910>"
      ]
     },
     "execution_count": 20,
     "metadata": {},
     "output_type": "execute_result"
    },
    {
     "data": {
      "image/png": "[encoded data removed]",
      "text/plain": [
       "<Figure size 504x504 with 1 Axes>"
      ]
     },
     "metadata": {
      "needs_background": "light"
     },
     "output_type": "display_data"
    }
   ],
   "source": [
    "#Plot Image\n",
    "plt.figure(figsize=(7, 7))\n",
    "plt.imshow(arr)"
   ]
  },
  {
   "cell_type": "code",
   "execution_count": 21,
   "metadata": {},
   "outputs": [],
   "source": [
    "#Mask for any point that has an actual reading\n",
    "# here generally i would do 1,0 ... just for fun flipping it\n",
    "mask = np.where((arr != -9.9990000e+03), 0, 1)"
   ]
  },
  {
   "cell_type": "code",
   "execution_count": 22,
   "metadata": {},
   "outputs": [
    {
     "data": {
      "text/plain": [
       "<matplotlib.image.AxesImage at 0x1c3a9ac750>"
      ]
     },
     "execution_count": 22,
     "metadata": {},
     "output_type": "execute_result"
    },
    {
     "data": {
      "image/png": "[encoded data removed]",
      "text/plain": [
       "<Figure size 504x504 with 1 Axes>"
      ]
     },
     "metadata": {
      "needs_background": "light"
     },
     "output_type": "display_data"
    }
   ],
   "source": [
    "# flipped mask\n",
    "plt.figure(figsize=(7, 7))\n",
    "plt.imshow(mask)"
   ]
  },
  {
   "cell_type": "code",
   "execution_count": 23,
   "metadata": {},
   "outputs": [],
   "source": [
    "#Exporting our modified geoTiff file \n",
    "# Need a GeoTiff Raster driver - driver is essentially the vessel that will take our dataset\n",
    "# in and write it out to a file\n",
    "\n",
    "\n",
    "driver = gdal.GetDriverByName(\"GTiff\")\n",
    "driver.Register()\n",
    "\n",
    "outds = driver.Create(\"data/sample_mask.tif\", \n",
    "                      xsize= mask.shape[1],\n",
    "                      ysize= mask.shape[0],\n",
    "                      bands = 1,\n",
    "                      eType = gdal.GDT_Int16\n",
    "                     )\n",
    "\n",
    "#Need to set these meta data fields, in our case just reusing what we had already,\n",
    "outds.SetGeoTransform(gt)\n",
    "outds.SetProjection(proj)\n",
    "\n",
    "\n",
    "#Need to open raster band, and write our new data (in this case `mask`) to this raster band\n",
    "outband = outds.GetRasterBand(1)\n",
    "outband.WriteArray(mask)\n",
    "outband.SetNoDataValue(np.nan)\n",
    "\n",
    "#Actually write to the disk\n",
    "outband.FlushCache()\n",
    "\n",
    "#Need to do this get rid of shit from the driver to the actual rastered file\n",
    "outband = None\n",
    "outds = None\n"
   ]
  },
  {
   "cell_type": "code",
   "execution_count": 24,
   "metadata": {},
   "outputs": [
    {
     "name": "stdout",
     "output_type": "stream",
     "text": [
      "enteric_CH4_Gg_km2.tif sample_mask.tif\r\n",
      "manure_CH4_Gg_km2.tif  total_CH4_Gg_km2.tif\r\n"
     ]
    }
   ],
   "source": [
    "#Check that the file is written there!\n",
    "\n",
    "!ls data"
   ]
  },
  {
   "cell_type": "markdown",
   "metadata": {},
   "source": [
    "<hr>"
   ]
  },
  {
   "cell_type": "markdown",
   "metadata": {},
   "source": [
    "### Blog Code\n",
    "\n",
    "* https://medium.com/@manishsahu/working-with-geospatial-data-part-1-using-gdal-library-38bdc26ff958\n",
    "* clipping stuff: https://medium.com/@manishsahu/working-with-geospatial-data-part-3-basic-data-processing-53a2a3a91c68"
   ]
  },
  {
   "cell_type": "code",
   "execution_count": 25,
   "metadata": {},
   "outputs": [],
   "source": [
    "# Reading raster dataset\n",
    "def read_tif(path_tif):\n",
    "\n",
    "    # Creating gdal object\n",
    "    ds = gdal.Open(path_tif)\n",
    "    \n",
    "    # Reading number of bands\n",
    "    num_band = ds.RasterCount\n",
    "    \n",
    "    # Reading rows and cols\n",
    "    col = ds.RasterXSize\n",
    "    row = ds.RasterYSize\n",
    "    \n",
    "    # Initializing array\n",
    "    array = np.zeros([row, col, num_band])\n",
    "    for i in range(num_band):\n",
    "        band = ds.GetRasterBand(i+1)\n",
    "        arr = band.ReadAsArray()\n",
    "        array[:, :, i] = arr\n",
    "    size = arr.shape\n",
    "    \n",
    "    # Reading geotransformation and geoprojection\n",
    "    geotransform = ds.GetGeoTransform()\n",
    "    geoprojection = ds.GetProjection()\n",
    "    return geotransform, geoprojection, (size[1], size[0]), array\n",
    "\n",
    "\n",
    " #### #### #### #### #### #### #### #### #### #### #### #### #### #### \n",
    "\n",
    "\n",
    "# Writing raster dataset\n",
    "def write_tif(path_tif, array, geotransform, geoprojection):\n",
    "    \n",
    "    # Checking the dimension of array.\n",
    "    dim_array = array.shape\n",
    "    if len(dim_array) > 2:\n",
    "        depth = dim_array[2]\n",
    "    else:\n",
    "        depth = 1\n",
    "    \n",
    "    # Initializing TIF dataset driver\n",
    "    driver = gdal.GetDriverByName(\"GTiff\")\n",
    "    \n",
    "    # Creating actual dataset from TIF drivers.\n",
    "    outdata = driver.Create(\n",
    "        path_tif, size[0], size[1], depth, gdal.GDT_Float32)\n",
    "    \n",
    "\n",
    "    # sets same geotransform as input\n",
    "    outdata.SetGeoTransform(geotransform)\n",
    "    \n",
    "    # sets same projection as input\n",
    "    outdata.SetProjection(geoprojection)  \n",
    "    \n",
    "    # Writing data to array\n",
    "    for i in range(depth):\n",
    "        try:\n",
    "            arr = array[:, :, i]\n",
    "        except:\n",
    "            arr = array[:, :]\n",
    "        outdata.GetRasterBand(i+1).WriteArray(arr)\n",
    "    \n",
    "    # If you want these values transparent\n",
    "    outdata.GetRasterBand(1).SetNoDataValue(-9999) \n",
    "    \n",
    "    # saves to disk!!\n",
    "    outdata.FlushCache() \n",
    "    \n",
    "    # Releasing memory\n",
    "    outdata = None"
   ]
  },
  {
   "cell_type": "code",
   "execution_count": 26,
   "metadata": {},
   "outputs": [],
   "source": [
    "geotransform, geoprojection, data_shape, data = read_tif(file_path)"
   ]
  },
  {
   "cell_type": "code",
   "execution_count": 27,
   "metadata": {},
   "outputs": [
    {
     "name": "stdout",
     "output_type": "stream",
     "text": [
      "geotransform (-124.290461078, 0.1, 0.0, 41.9262916975, 0.0, -0.10000000000000003) \n",
      "\n",
      "geoprojection GEOGCS[\"WGS 84\",DATUM[\"WGS_1984\",SPHEROID[\"WGS 84\",6378137,298.257223563,AUTHORITY[\"EPSG\",\"7030\"]],AUTHORITY[\"EPSG\",\"6326\"]],PRIMEM[\"Greenwich\",0],UNIT[\"degree\",0.0174532925199433],AUTHORITY[\"EPSG\",\"4326\"]] \n",
      "\n"
     ]
    },
    {
     "ename": "NameError",
     "evalue": "name 'some_tuple' is not defined",
     "output_type": "error",
     "traceback": [
      "\u001b[0;31m---------------------------------------------------------------------------\u001b[0m",
      "\u001b[0;31mNameError\u001b[0m                                 Traceback (most recent call last)",
      "\u001b[0;32m<ipython-input-27-ef173baed717>\u001b[0m in \u001b[0;36m<module>\u001b[0;34m\u001b[0m\n\u001b[1;32m      1\u001b[0m \u001b[0mprint\u001b[0m\u001b[0;34m(\u001b[0m\u001b[0;34m'geotransform'\u001b[0m\u001b[0;34m,\u001b[0m \u001b[0mgeotransform\u001b[0m\u001b[0;34m,\u001b[0m \u001b[0;34m'\\n'\u001b[0m\u001b[0;34m)\u001b[0m\u001b[0;34m\u001b[0m\u001b[0;34m\u001b[0m\u001b[0m\n\u001b[1;32m      2\u001b[0m \u001b[0mprint\u001b[0m\u001b[0;34m(\u001b[0m\u001b[0;34m'geoprojection'\u001b[0m\u001b[0;34m,\u001b[0m \u001b[0mgeoprojection\u001b[0m\u001b[0;34m,\u001b[0m \u001b[0;34m'\\n'\u001b[0m\u001b[0;34m)\u001b[0m\u001b[0;34m\u001b[0m\u001b[0;34m\u001b[0m\u001b[0m\n\u001b[0;32m----> 3\u001b[0;31m \u001b[0mprint\u001b[0m\u001b[0;34m(\u001b[0m\u001b[0;34m'data_shape'\u001b[0m\u001b[0;34m,\u001b[0m \u001b[0msome_tuple\u001b[0m\u001b[0;34m,\u001b[0m \u001b[0;34m'\\n'\u001b[0m\u001b[0;34m)\u001b[0m\u001b[0;34m\u001b[0m\u001b[0;34m\u001b[0m\u001b[0m\n\u001b[0m",
      "\u001b[0;31mNameError\u001b[0m: name 'some_tuple' is not defined"
     ]
    }
   ],
   "source": [
    "print('geotransform', geotransform, '\\n')\n",
    "print('geoprojection', geoprojection, '\\n')\n",
    "print('data_shape', some_tuple, '\\n')"
   ]
  },
  {
   "cell_type": "code",
   "execution_count": null,
   "metadata": {},
   "outputs": [],
   "source": []
  },
  {
   "cell_type": "code",
   "execution_count": null,
   "metadata": {},
   "outputs": [],
   "source": []
  },
  {
   "cell_type": "code",
   "execution_count": null,
   "metadata": {},
   "outputs": [],
   "source": []
  }
 ],
 "metadata": {
  "jupytext": {
   "formats": "ipynb,auto:light"
  },
  "kernelspec": {
   "display_name": "Python 3",
   "language": "python",
   "name": "python3"
  },
  "language_info": {
   "codemirror_mode": {
    "name": "ipython",
    "version": 3
   },
   "file_extension": ".py",
   "mimetype": "text/x-python",
   "name": "python",
   "nbconvert_exporter": "python",
   "pygments_lexer": "ipython3",
   "version": "3.7.4"
  }
 },
 "nbformat": 4,
 "nbformat_minor": 2
}
